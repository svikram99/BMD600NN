{
 "cells": [
  {
   "cell_type": "code",
   "execution_count": 2,
   "id": "76289ae7-bb7c-4418-b25e-9fb55f5299fc",
   "metadata": {},
   "outputs": [],
   "source": [
    "import glob\n",
    "import pandas as pd\n",
    "import matplotlib.pyplot as plt\n",
    "import pandas as pd\n",
    "import skimage as ski\n",
    "from skimage.io import imread\n",
    "import numpy as np\n",
    "import keras as keras\n",
    "from keras.utils import np_utils\n",
    "from keras.models import Sequential\n",
    "from keras.layers import Dense\n",
    "import skimage as ski\n",
    "from skimage.viewer import ImageViewer\n",
    "import sklearn\n",
    "from sklearn.model_selection import train_test_split\n",
    "from sklearn.metrics import mean_squared_error\n",
    "from math import sqrt\n",
    "from pathlib import Path  \n",
    "import seaborn as sb\n",
    "from keras import regularizers"
   ]
  },
  {
   "cell_type": "markdown",
   "id": "e4e4fc51-88cb-4546-a9dc-d3e062d75a16",
   "metadata": {},
   "source": [
    "# preparation\n",
    "define some functions"
   ]
  },
  {
   "cell_type": "code",
   "execution_count": 3,
   "id": "07013ee0",
   "metadata": {},
   "outputs": [],
   "source": [
    "def getDifferenceImage(image1, image2):\n",
    "    '''\n",
    "This is a function that utilizes skimage to compare two images\n",
    "The inputs for this would be the mosquito movie\n",
    "It returns the difference between two images\n",
    "    '''\n",
    "    import skimage as ski\n",
    "\n",
    "    diffimage = ski.util.compare_images(image1, image2, method='diff')\n",
    "    return diffimage"
   ]
  },
  {
   "cell_type": "code",
   "execution_count": 4,
   "id": "d8effe6d-b6af-4139-bc2d-7b972b3e6976",
   "metadata": {},
   "outputs": [],
   "source": [
    "def getthediffimg(moviename):\n",
    "    '''\n",
    "takes moviename, calculates the difference between two images\n",
    "and returns a pandas dataframe with\n",
    "    row, col, sum, image\n",
    "'''\n",
    "    # read in the moviename\n",
    "    mov = imread(moviename)\n",
    "    mov = ski.img_as_float(mov)\n",
    "\n",
    "    #getdiffimage\n",
    "    if len(mov) > 29:\n",
    "        diffImage = getDifferenceImage(mov[0], mov[29])\n",
    "#        print(diffImage)\n",
    "    else:\n",
    "        print(\"not enough images\")\n",
    " \n",
    "    #normalize to the highest value in the movie \n",
    "    diffImage/=diffImage.max()\n",
    "    \n",
    "    # threshold\n",
    "    mov_threshold = diffImage>diffImage.mean()+3*diffImage.std()\n",
    " \n",
    "    # get the rows and columns\n",
    "    cols = np.array_split(diffImage,12,1)\n",
    "    rows = [np.array_split(x,8,0) for x in cols]\n",
    "    \n",
    "    # and for threshold\n",
    "    cols_threshold = np.array_split(mov_threshold,12,1)\n",
    "    rows_threshold = [np.array_split(x,8,0) for x in cols_threshold]\n",
    "    \n",
    " \n",
    "    # create the output variable\n",
    "    out = []\n",
    "    for r in np.arange(8):\n",
    "        for c in np.arange(12):\n",
    "            out.append([r, c, rows[c][r].sum(), rows[c][r]])\n",
    "            #out.append([r, c, rows[c][r].sum())\n",
    "            #out[r,c]=rows[c][r].sum()\n",
    "    out = pd.DataFrame(out, columns=['row', 'col', 'image_sum','diffimg'])\n",
    "    return out, diffImage\n",
    " \n",
    "def makeDiffDataset(moviename, csvfilename):\n",
    "    '''\n",
    "get the difference image dataframe using getthediffimg, then \n",
    "merge it with the index in csvfilename.\n",
    "csvfilename must be zero - indexed\n",
    "'''\n",
    "    import pandas as pd\n",
    "    import numpy as np\n",
    " \n",
    "    # get the diff dataframe\n",
    "    vardata = getthediffimg(moviename)\n",
    " \n",
    "    # merge with csvfilename\n",
    "    return vardata[0].merge(pd.read_csv(csvfilename))\n",
    " \n"
   ]
  },
  {
   "cell_type": "markdown",
   "id": "096eb3e1",
   "metadata": {},
   "source": [
    "Change name to get diff for movie"
   ]
  },
  {
   "cell_type": "code",
   "execution_count": 5,
   "id": "e7be4365-26c1-48f5-a34a-aa0d231e0c94",
   "metadata": {},
   "outputs": [
    {
     "data": {
      "text/plain": [
       "['/Users/sri28/Desktop/Academic/QMULYR3/BMD600 - Biomed Research Project/Trainingsets/160128/60min drug 10ms 5/60min drug 10ms 5_MMStack.ome.tif',\n",
       " '/Users/sri28/Desktop/Academic/QMULYR3/BMD600 - Biomed Research Project/Trainingsets/160128/60min drug 10ms 2/60min drug 10ms 2_MMStack.ome.tif',\n",
       " '/Users/sri28/Desktop/Academic/QMULYR3/BMD600 - Biomed Research Project/Trainingsets/160128/60min drug 10ms 3/60min drug 10ms 3_MMStack.ome.tif',\n",
       " '/Users/sri28/Desktop/Academic/QMULYR3/BMD600 - Biomed Research Project/Trainingsets/160128/60min drug 10ms 4/60min drug 10ms 4_MMStack.ome.tif',\n",
       " '/Users/sri28/Desktop/Academic/QMULYR3/BMD600 - Biomed Research Project/Trainingsets/160128/60min drug 10ms 1/60min drug 10ms 1_MMStack.ome.tif',\n",
       " '/Users/sri28/Desktop/Academic/QMULYR3/BMD600 - Biomed Research Project/Trainingsets/160218/60min drug 10ms 5/60min drug 10ms 5_MMStack.ome.tif',\n",
       " '/Users/sri28/Desktop/Academic/QMULYR3/BMD600 - Biomed Research Project/Trainingsets/160218/60min drug 10ms 2/60min drug 10ms 2_MMStack.ome.tif',\n",
       " '/Users/sri28/Desktop/Academic/QMULYR3/BMD600 - Biomed Research Project/Trainingsets/160218/60min drug 10ms 3/60min drug 10ms 3_MMStack.ome.tif',\n",
       " '/Users/sri28/Desktop/Academic/QMULYR3/BMD600 - Biomed Research Project/Trainingsets/160218/60min drug 10ms 4/60min drug 10ms 4_MMStack.ome.tif',\n",
       " '/Users/sri28/Desktop/Academic/QMULYR3/BMD600 - Biomed Research Project/Trainingsets/160218/60min drug 10ms 1/60min drug 10ms 1_MMStack.ome.tif']"
      ]
     },
     "execution_count": 5,
     "metadata": {},
     "output_type": "execute_result"
    }
   ],
   "source": [
    "# aggregate the files\n",
    "'''\n",
    "This uploads the datafiles for the new data frame and training using \n",
    "glob - to return all filepaths with the same name\n",
    "'''\n",
    "datafiles = glob.glob('/Users/sri28/Desktop/Academic/QMULYR3/BMD600 - Biomed Research Project/Trainingsets/160*8/60min drug*/*tif')\n",
    "datafiles"
   ]
  },
  {
   "cell_type": "code",
   "execution_count": 9,
   "id": "d23f89a2-ac84-4ddd-a36e-e17ff3b62cb5",
   "metadata": {},
   "outputs": [
    {
     "data": {
      "text/plain": [
       "'/Users/sri28/Desktop/Academic/QMULYR3/BMD600 - Biomed Research Project/BMD600_Mov/160122/conditions.csv'"
      ]
     },
     "execution_count": 9,
     "metadata": {},
     "output_type": "execute_result"
    }
   ],
   "source": [
    "'''\n",
    "CSV for dataframe uploaded here\n",
    "'''\n",
    "csvfile = '/Users/sri28/Desktop/Academic/QMULYR3/BMD600 - Biomed Research Project/BMD600_Mov/160122/conditions.csv'\n",
    "csvfile"
   ]
  },
  {
   "cell_type": "code",
   "execution_count": 10,
   "id": "078f733e",
   "metadata": {},
   "outputs": [
    {
     "name": "stdout",
     "output_type": "stream",
     "text": [
      "10\n"
     ]
    }
   ],
   "source": [
    "'''\n",
    "To check the number of mosquito movies returned\n",
    "'''\n",
    "print (len(datafiles))"
   ]
  },
  {
   "cell_type": "code",
   "execution_count": 11,
   "id": "060a443f-25e7-4740-86b0-c1e1812ba532",
   "metadata": {},
   "outputs": [
    {
     "name": "stdout",
     "output_type": "stream",
     "text": [
      "doing/Users/sri28/Desktop/Academic/QMULYR3/BMD600 - Biomed Research Project/Trainingsets/160128/60min drug 10ms 5/60min drug 10ms 5_MMStack.ome.tif\n",
      "doing/Users/sri28/Desktop/Academic/QMULYR3/BMD600 - Biomed Research Project/Trainingsets/160128/60min drug 10ms 2/60min drug 10ms 2_MMStack.ome.tif\n",
      "doing/Users/sri28/Desktop/Academic/QMULYR3/BMD600 - Biomed Research Project/Trainingsets/160128/60min drug 10ms 3/60min drug 10ms 3_MMStack.ome.tif\n",
      "doing/Users/sri28/Desktop/Academic/QMULYR3/BMD600 - Biomed Research Project/Trainingsets/160128/60min drug 10ms 4/60min drug 10ms 4_MMStack.ome.tif\n",
      "doing/Users/sri28/Desktop/Academic/QMULYR3/BMD600 - Biomed Research Project/Trainingsets/160128/60min drug 10ms 1/60min drug 10ms 1_MMStack.ome.tif\n",
      "doing/Users/sri28/Desktop/Academic/QMULYR3/BMD600 - Biomed Research Project/Trainingsets/160218/60min drug 10ms 5/60min drug 10ms 5_MMStack.ome.tif\n",
      "doing/Users/sri28/Desktop/Academic/QMULYR3/BMD600 - Biomed Research Project/Trainingsets/160218/60min drug 10ms 2/60min drug 10ms 2_MMStack.ome.tif\n",
      "doing/Users/sri28/Desktop/Academic/QMULYR3/BMD600 - Biomed Research Project/Trainingsets/160218/60min drug 10ms 3/60min drug 10ms 3_MMStack.ome.tif\n",
      "doing/Users/sri28/Desktop/Academic/QMULYR3/BMD600 - Biomed Research Project/Trainingsets/160218/60min drug 10ms 4/60min drug 10ms 4_MMStack.ome.tif\n",
      "doing/Users/sri28/Desktop/Academic/QMULYR3/BMD600 - Biomed Research Project/Trainingsets/160218/60min drug 10ms 1/60min drug 10ms 1_MMStack.ome.tif\n"
     ]
    }
   ],
   "source": [
    "'''\n",
    "Dataframe creation\n",
    "'''\n",
    "x=[]\n",
    "for datafile in datafiles:\n",
    "    print('doing{}'.format(datafile))\n",
    "    x.append(makeDiffDataset(datafile, csvfile))\n",
    "x = pd.concat(x)"
   ]
  },
  {
   "cell_type": "code",
   "execution_count": 12,
   "id": "e7e15d83",
   "metadata": {},
   "outputs": [
    {
     "name": "stdout",
     "output_type": "stream",
     "text": [
      "    row  col    image_sum                                            diffimg  \\\n",
      "0     0    3   616.585179  [[0.01860674736028849, 0.03895184135977347, 0....   \n",
      "1     0    4   580.609258  [[0.02523821787277869, 0.010043780582024172, 0...   \n",
      "2     0    5   584.278972  [[0.03573268091681689, 0.05041205253669848, 0....   \n",
      "3     0    6  2167.445661  [[0.026590265258820522, 0.03708472830285872, 0...   \n",
      "4     0    7   815.328676  [[0.04764357455575593, 0.016932783929951126, 0...   \n",
      "..  ...  ...          ...                                                ...   \n",
      "43    7    4  1075.954353  [[0.0015072130912222724, 0.00882796239144487, ...   \n",
      "44    7    5  1087.097251  [[0.0015072130912222724, 0.009043278547333635,...   \n",
      "45    7    6  1488.038039  [[0.015861623483815476, 0.007607837508074328, ...   \n",
      "46    7    7  1151.439819  [[0.014928586808296795, 0.00882796239144474, 0...   \n",
      "47    7    8   636.148496  [[0.005311131845259436, 0.00014354410392593072...   \n",
      "\n",
      "            cmpd          conc genotype  \n",
      "0           DMSO  0.000000e+00        T  \n",
      "1   Deltamethrin  1.000000e-05        T  \n",
      "2       Temephos  1.000000e-05        T  \n",
      "3           DMSO  0.000000e+00        G  \n",
      "4   Deltamethrin  1.000000e-05        G  \n",
      "..           ...           ...      ...  \n",
      "43  Deltamethrin  1.280000e-10        T  \n",
      "44      Temephos  1.280000e-10        T  \n",
      "45          DMSO  0.000000e+00        G  \n",
      "46  Deltamethrin  1.280000e-10        G  \n",
      "47      Temephos  1.280000e-10        G  \n",
      "\n",
      "[480 rows x 7 columns]\n"
     ]
    }
   ],
   "source": [
    "'''\n",
    "To view and check the dataframe created \n",
    "'''\n",
    "print(x)"
   ]
  },
  {
   "cell_type": "markdown",
   "id": "90083b1a",
   "metadata": {},
   "source": [
    "lets test model"
   ]
  },
  {
   "cell_type": "code",
   "execution_count": 13,
   "id": "cde94c61-41d4-4fbe-882a-76bffde32dbb",
   "metadata": {},
   "outputs": [
    {
     "data": {
      "text/html": [
       "<div>\n",
       "<style scoped>\n",
       "    .dataframe tbody tr th:only-of-type {\n",
       "        vertical-align: middle;\n",
       "    }\n",
       "\n",
       "    .dataframe tbody tr th {\n",
       "        vertical-align: top;\n",
       "    }\n",
       "\n",
       "    .dataframe thead th {\n",
       "        text-align: right;\n",
       "    }\n",
       "</style>\n",
       "<table border=\"1\" class=\"dataframe\">\n",
       "  <thead>\n",
       "    <tr style=\"text-align: right;\">\n",
       "      <th></th>\n",
       "      <th>row</th>\n",
       "      <th>col</th>\n",
       "      <th>image_sum</th>\n",
       "      <th>diffimg</th>\n",
       "      <th>cmpd</th>\n",
       "      <th>conc</th>\n",
       "      <th>genotype</th>\n",
       "      <th>alive</th>\n",
       "    </tr>\n",
       "  </thead>\n",
       "  <tbody>\n",
       "    <tr>\n",
       "      <th>0</th>\n",
       "      <td>0</td>\n",
       "      <td>3</td>\n",
       "      <td>616.585179</td>\n",
       "      <td>[[0.01860674736028849, 0.03895184135977347, 0....</td>\n",
       "      <td>DMSO</td>\n",
       "      <td>0.000000</td>\n",
       "      <td>T</td>\n",
       "      <td>1.0</td>\n",
       "    </tr>\n",
       "    <tr>\n",
       "      <th>1</th>\n",
       "      <td>0</td>\n",
       "      <td>4</td>\n",
       "      <td>580.609258</td>\n",
       "      <td>[[0.02523821787277869, 0.010043780582024172, 0...</td>\n",
       "      <td>Deltamethrin</td>\n",
       "      <td>0.000010</td>\n",
       "      <td>T</td>\n",
       "      <td>0.0</td>\n",
       "    </tr>\n",
       "    <tr>\n",
       "      <th>3</th>\n",
       "      <td>0</td>\n",
       "      <td>6</td>\n",
       "      <td>2167.445661</td>\n",
       "      <td>[[0.026590265258820522, 0.03708472830285872, 0...</td>\n",
       "      <td>DMSO</td>\n",
       "      <td>0.000000</td>\n",
       "      <td>G</td>\n",
       "      <td>1.0</td>\n",
       "    </tr>\n",
       "    <tr>\n",
       "      <th>4</th>\n",
       "      <td>0</td>\n",
       "      <td>7</td>\n",
       "      <td>815.328676</td>\n",
       "      <td>[[0.04764357455575593, 0.016932783929951126, 0...</td>\n",
       "      <td>Deltamethrin</td>\n",
       "      <td>0.000010</td>\n",
       "      <td>G</td>\n",
       "      <td>0.0</td>\n",
       "    </tr>\n",
       "    <tr>\n",
       "      <th>6</th>\n",
       "      <td>1</td>\n",
       "      <td>3</td>\n",
       "      <td>1095.668555</td>\n",
       "      <td>[[0.020087561164048345, 0.008434200360546058, ...</td>\n",
       "      <td>DMSO</td>\n",
       "      <td>0.000000</td>\n",
       "      <td>T</td>\n",
       "      <td>1.0</td>\n",
       "    </tr>\n",
       "    <tr>\n",
       "      <th>7</th>\n",
       "      <td>1</td>\n",
       "      <td>4</td>\n",
       "      <td>570.115632</td>\n",
       "      <td>[[0.0034766932783931, 0.008562966778264198, 0....</td>\n",
       "      <td>Deltamethrin</td>\n",
       "      <td>0.000002</td>\n",
       "      <td>T</td>\n",
       "      <td>0.0</td>\n",
       "    </tr>\n",
       "    <tr>\n",
       "      <th>9</th>\n",
       "      <td>1</td>\n",
       "      <td>6</td>\n",
       "      <td>1847.116405</td>\n",
       "      <td>[[0.016417718259077976, 0.013262941024980638, ...</td>\n",
       "      <td>DMSO</td>\n",
       "      <td>0.000000</td>\n",
       "      <td>G</td>\n",
       "      <td>1.0</td>\n",
       "    </tr>\n",
       "  </tbody>\n",
       "</table>\n",
       "</div>"
      ],
      "text/plain": [
       "   row  col    image_sum                                            diffimg  \\\n",
       "0    0    3   616.585179  [[0.01860674736028849, 0.03895184135977347, 0....   \n",
       "1    0    4   580.609258  [[0.02523821787277869, 0.010043780582024172, 0...   \n",
       "3    0    6  2167.445661  [[0.026590265258820522, 0.03708472830285872, 0...   \n",
       "4    0    7   815.328676  [[0.04764357455575593, 0.016932783929951126, 0...   \n",
       "6    1    3  1095.668555  [[0.020087561164048345, 0.008434200360546058, ...   \n",
       "7    1    4   570.115632  [[0.0034766932783931, 0.008562966778264198, 0....   \n",
       "9    1    6  1847.116405  [[0.016417718259077976, 0.013262941024980638, ...   \n",
       "\n",
       "           cmpd      conc genotype  alive  \n",
       "0          DMSO  0.000000        T    1.0  \n",
       "1  Deltamethrin  0.000010        T    0.0  \n",
       "3          DMSO  0.000000        G    1.0  \n",
       "4  Deltamethrin  0.000010        G    0.0  \n",
       "6          DMSO  0.000000        T    1.0  \n",
       "7  Deltamethrin  0.000002        T    0.0  \n",
       "9          DMSO  0.000000        G    1.0  "
      ]
     },
     "execution_count": 13,
     "metadata": {},
     "output_type": "execute_result"
    }
   ],
   "source": [
    "'''\n",
    "create labels dead alive\n",
    "idx = (x['conc']>1e-7\n",
    "x['alive'] = 1 # 1 means alive, start by labelling them all as alive then override\n",
    "keep x for reference later, here we will pull out the labelled rows \n",
    "(dead|alive) and put them into another variable\n",
    "'''\n",
    "idx_dead = (x['conc']>1e-7) & (x['cmpd']=='Deltamethrin')\n",
    "idx_alive = (x['cmpd']=='DMSO')\n",
    "x.loc[idx_dead,'alive'] = 0 \n",
    "x.loc[idx_alive,'alive'] = 1\n",
    "idx = idx_dead | idx_alive\n",
    "x_pruned = x.loc[idx]\n",
    "x_pruned.head(7)"
   ]
  },
  {
   "cell_type": "code",
   "execution_count": 14,
   "id": "ae8a3d3f",
   "metadata": {},
   "outputs": [
    {
     "name": "stdout",
     "output_type": "stream",
     "text": [
      "0      True\n",
      "1      True\n",
      "2     False\n",
      "3      True\n",
      "4      True\n",
      "      ...  \n",
      "43    False\n",
      "44    False\n",
      "45     True\n",
      "46    False\n",
      "47    False\n",
      "Length: 480, dtype: bool\n"
     ]
    }
   ],
   "source": [
    "'''\n",
    "To view and check the dataframe  \n",
    "'''\n",
    "print(idx)"
   ]
  },
  {
   "cell_type": "code",
   "execution_count": 15,
   "id": "aa899d78",
   "metadata": {},
   "outputs": [
    {
     "data": {
      "text/plain": [
       "pandas.core.frame.DataFrame"
      ]
     },
     "execution_count": 15,
     "metadata": {},
     "output_type": "execute_result"
    }
   ],
   "source": [
    "'''\n",
    "To verify type of dataframe\n",
    "'''\n",
    "type(x)"
   ]
  },
  {
   "cell_type": "code",
   "execution_count": 16,
   "id": "59741574",
   "metadata": {},
   "outputs": [
    {
     "name": "stdout",
     "output_type": "stream",
     "text": [
      "0     False\n",
      "1      True\n",
      "2     False\n",
      "3     False\n",
      "4      True\n",
      "      ...  \n",
      "43    False\n",
      "44    False\n",
      "45    False\n",
      "46    False\n",
      "47    False\n",
      "Length: 480, dtype: bool\n"
     ]
    }
   ],
   "source": [
    "'''\n",
    "To view and check the dataframe  \n",
    "'''\n",
    "print(idx_dead)"
   ]
  },
  {
   "cell_type": "code",
   "execution_count": 17,
   "id": "80096384",
   "metadata": {},
   "outputs": [
    {
     "name": "stdout",
     "output_type": "stream",
     "text": [
      "0      True\n",
      "1     False\n",
      "2     False\n",
      "3      True\n",
      "4     False\n",
      "      ...  \n",
      "43    False\n",
      "44    False\n",
      "45     True\n",
      "46    False\n",
      "47    False\n",
      "Name: cmpd, Length: 480, dtype: bool\n"
     ]
    }
   ],
   "source": [
    "'''\n",
    "To view and check the dataframe  \n",
    "'''\n",
    "print(idx_alive)"
   ]
  },
  {
   "cell_type": "code",
   "execution_count": 18,
   "id": "3336be1b-6bf2-41a3-94af-dce53bef3745",
   "metadata": {},
   "outputs": [
    {
     "data": {
      "text/html": [
       "<div>\n",
       "<style scoped>\n",
       "    .dataframe tbody tr th:only-of-type {\n",
       "        vertical-align: middle;\n",
       "    }\n",
       "\n",
       "    .dataframe tbody tr th {\n",
       "        vertical-align: top;\n",
       "    }\n",
       "\n",
       "    .dataframe thead th {\n",
       "        text-align: right;\n",
       "    }\n",
       "</style>\n",
       "<table border=\"1\" class=\"dataframe\">\n",
       "  <thead>\n",
       "    <tr style=\"text-align: right;\">\n",
       "      <th></th>\n",
       "      <th>row</th>\n",
       "      <th>col</th>\n",
       "      <th>image_sum</th>\n",
       "      <th>diffimg</th>\n",
       "      <th>cmpd</th>\n",
       "      <th>conc</th>\n",
       "      <th>genotype</th>\n",
       "      <th>alive</th>\n",
       "    </tr>\n",
       "  </thead>\n",
       "  <tbody>\n",
       "    <tr>\n",
       "      <th>1</th>\n",
       "      <td>0</td>\n",
       "      <td>4</td>\n",
       "      <td>580.609258</td>\n",
       "      <td>[[0.02523821787277869, 0.010043780582024172, 0...</td>\n",
       "      <td>Deltamethrin</td>\n",
       "      <td>1.000000e-05</td>\n",
       "      <td>T</td>\n",
       "      <td>0.0</td>\n",
       "    </tr>\n",
       "    <tr>\n",
       "      <th>4</th>\n",
       "      <td>0</td>\n",
       "      <td>7</td>\n",
       "      <td>815.328676</td>\n",
       "      <td>[[0.04764357455575593, 0.016932783929951126, 0...</td>\n",
       "      <td>Deltamethrin</td>\n",
       "      <td>1.000000e-05</td>\n",
       "      <td>G</td>\n",
       "      <td>0.0</td>\n",
       "    </tr>\n",
       "    <tr>\n",
       "      <th>7</th>\n",
       "      <td>1</td>\n",
       "      <td>4</td>\n",
       "      <td>570.115632</td>\n",
       "      <td>[[0.0034766932783931, 0.008562966778264198, 0....</td>\n",
       "      <td>Deltamethrin</td>\n",
       "      <td>2.000000e-06</td>\n",
       "      <td>T</td>\n",
       "      <td>0.0</td>\n",
       "    </tr>\n",
       "    <tr>\n",
       "      <th>10</th>\n",
       "      <td>1</td>\n",
       "      <td>7</td>\n",
       "      <td>985.629668</td>\n",
       "      <td>[[0.003541076487252112, 0.013842389904712803, ...</td>\n",
       "      <td>Deltamethrin</td>\n",
       "      <td>2.000000e-06</td>\n",
       "      <td>G</td>\n",
       "      <td>0.0</td>\n",
       "    </tr>\n",
       "    <tr>\n",
       "      <th>13</th>\n",
       "      <td>2</td>\n",
       "      <td>4</td>\n",
       "      <td>656.855846</td>\n",
       "      <td>[[0.0037342261138295003, 0.01879989698686576, ...</td>\n",
       "      <td>Deltamethrin</td>\n",
       "      <td>4.000000e-07</td>\n",
       "      <td>T</td>\n",
       "      <td>0.0</td>\n",
       "    </tr>\n",
       "    <tr>\n",
       "      <th>16</th>\n",
       "      <td>2</td>\n",
       "      <td>7</td>\n",
       "      <td>735.116598</td>\n",
       "      <td>[[0.01506567087303626, 0.0036698429049703708, ...</td>\n",
       "      <td>Deltamethrin</td>\n",
       "      <td>4.000000e-07</td>\n",
       "      <td>G</td>\n",
       "      <td>0.0</td>\n",
       "    </tr>\n",
       "    <tr>\n",
       "      <th>19</th>\n",
       "      <td>3</td>\n",
       "      <td>4</td>\n",
       "      <td>589.852627</td>\n",
       "      <td>[[0.01030131341746069, 0.003541076487252112, 0...</td>\n",
       "      <td>Deltamethrin</td>\n",
       "      <td>8.000000e-08</td>\n",
       "      <td>T</td>\n",
       "      <td>NaN</td>\n",
       "    </tr>\n",
       "  </tbody>\n",
       "</table>\n",
       "</div>"
      ],
      "text/plain": [
       "    row  col   image_sum                                            diffimg  \\\n",
       "1     0    4  580.609258  [[0.02523821787277869, 0.010043780582024172, 0...   \n",
       "4     0    7  815.328676  [[0.04764357455575593, 0.016932783929951126, 0...   \n",
       "7     1    4  570.115632  [[0.0034766932783931, 0.008562966778264198, 0....   \n",
       "10    1    7  985.629668  [[0.003541076487252112, 0.013842389904712803, ...   \n",
       "13    2    4  656.855846  [[0.0037342261138295003, 0.01879989698686576, ...   \n",
       "16    2    7  735.116598  [[0.01506567087303626, 0.0036698429049703708, ...   \n",
       "19    3    4  589.852627  [[0.01030131341746069, 0.003541076487252112, 0...   \n",
       "\n",
       "            cmpd          conc genotype  alive  \n",
       "1   Deltamethrin  1.000000e-05        T    0.0  \n",
       "4   Deltamethrin  1.000000e-05        G    0.0  \n",
       "7   Deltamethrin  2.000000e-06        T    0.0  \n",
       "10  Deltamethrin  2.000000e-06        G    0.0  \n",
       "13  Deltamethrin  4.000000e-07        T    0.0  \n",
       "16  Deltamethrin  4.000000e-07        G    0.0  \n",
       "19  Deltamethrin  8.000000e-08        T    NaN  "
      ]
     },
     "execution_count": 18,
     "metadata": {},
     "output_type": "execute_result"
    }
   ],
   "source": [
    "'''\n",
    "#keep x for reference later, here we will pull out the labelled rows \n",
    "(dead|alive) and put them into another variable\n",
    "x_pruned creates new frame for neural network with only deltamethrin\n",
    "'''\n",
    "x_pruned = x.loc[x['cmpd']=='Deltamethrin']\n",
    "x_pruned.head(7)"
   ]
  },
  {
   "cell_type": "code",
   "execution_count": 20,
   "id": "6e7f6f9a",
   "metadata": {},
   "outputs": [
    {
     "name": "stdout",
     "output_type": "stream",
     "text": [
      "160\n"
     ]
    }
   ],
   "source": [
    "'''\n",
    "to verify length of x_pruned \n",
    "'''\n",
    "print (len(x_pruned))"
   ]
  },
  {
   "cell_type": "code",
   "execution_count": 21,
   "id": "97ee4e29-4573-44d1-bc45-53eebe10ca2c",
   "metadata": {},
   "outputs": [],
   "source": [
    "'''\n",
    "# get the images - and create x and y for training\n",
    "# X train is used to trim all images to train on to 200 x 200\n",
    "# y labels is the correct answers - concentration\n",
    "\n",
    "'''\n",
    "images = x_pruned['diffimg']\n",
    "\n",
    "x_train = [im[:200,:200] for im in images.to_list()] \n",
    "\n",
    "y_labels = x_pruned['conc'] \n"
   ]
  },
  {
   "cell_type": "code",
   "execution_count": 22,
   "id": "c2190d6b",
   "metadata": {},
   "outputs": [
    {
     "data": {
      "text/plain": [
       "1     1.000000e-05\n",
       "4     1.000000e-05\n",
       "7     2.000000e-06\n",
       "10    2.000000e-06\n",
       "13    4.000000e-07\n",
       "          ...     \n",
       "34    3.200000e-09\n",
       "37    6.400000e-10\n",
       "40    6.400000e-10\n",
       "43    1.280000e-10\n",
       "46    1.280000e-10\n",
       "Name: conc, Length: 160, dtype: float64"
      ]
     },
     "execution_count": 22,
     "metadata": {},
     "output_type": "execute_result"
    }
   ],
   "source": [
    "'''\n",
    "to verify y_labels\n",
    "'''\n",
    "y_labels"
   ]
  },
  {
   "cell_type": "code",
   "execution_count": 18,
   "id": "75f16995-7d7d-4771-bd9c-9971946763cc",
   "metadata": {},
   "outputs": [],
   "source": [
    "'''\n",
    "Make sure images have shape (200,200,1)\n",
    "'''\n",
    "x_train = np.expand_dims(x_train, -1)\n"
   ]
  },
  {
   "cell_type": "code",
   "execution_count": 19,
   "id": "714fb53a-3174-4256-891a-2f5c5ac7a083",
   "metadata": {},
   "outputs": [],
   "source": [
    "'''\n",
    "Concentration in log to the base 10\n",
    "'''\n",
    "y_train = np.log10(y_labels)\n"
   ]
  },
  {
   "cell_type": "code",
   "execution_count": 20,
   "id": "edfd463f",
   "metadata": {},
   "outputs": [
    {
     "data": {
      "text/plain": [
       "1    -5.00000\n",
       "4    -5.00000\n",
       "7    -5.69897\n",
       "10   -5.69897\n",
       "13   -6.39794\n",
       "       ...   \n",
       "34   -8.49485\n",
       "37   -9.19382\n",
       "40   -9.19382\n",
       "43   -9.89279\n",
       "46   -9.89279\n",
       "Name: conc, Length: 160, dtype: float64"
      ]
     },
     "execution_count": 20,
     "metadata": {},
     "output_type": "execute_result"
    }
   ],
   "source": [
    "'''\n",
    "to verify y train\n",
    "'''\n",
    "y_train"
   ]
  },
  {
   "cell_type": "code",
   "execution_count": 21,
   "id": "b74d5201-a7ff-4edd-bd90-d2f2c474961a",
   "metadata": {},
   "outputs": [
    {
     "name": "stdout",
     "output_type": "stream",
     "text": [
      "Model: \"sequential\"\n",
      "_________________________________________________________________\n",
      " Layer (type)                Output Shape              Param #   \n",
      "=================================================================\n",
      " conv2d (Conv2D)             (None, 198, 198, 32)      320       \n",
      "                                                                 \n",
      " max_pooling2d (MaxPooling2D  (None, 99, 99, 32)       0         \n",
      " )                                                               \n",
      "                                                                 \n",
      " conv2d_1 (Conv2D)           (None, 97, 97, 64)        18496     \n",
      "                                                                 \n",
      " max_pooling2d_1 (MaxPooling  (None, 48, 48, 64)       0         \n",
      " 2D)                                                             \n",
      "                                                                 \n",
      " flatten (Flatten)           (None, 147456)            0         \n",
      "                                                                 \n",
      " dropout (Dropout)           (None, 147456)            0         \n",
      "                                                                 \n",
      " dense (Dense)               (None, 1)                 147457    \n",
      "                                                                 \n",
      "=================================================================\n",
      "Total params: 166,273\n",
      "Trainable params: 166,273\n",
      "Non-trainable params: 0\n",
      "_________________________________________________________________\n"
     ]
    }
   ],
   "source": [
    "'''\n",
    "Layers to build the network\n",
    "'''\n",
    "model = keras.Sequential(\n",
    "    [\n",
    "        keras.Input(shape=(200,200,1)),\n",
    "        keras.layers.Conv2D(32, kernel_size=(3, 3), activation=\"relu\"),\n",
    "        #keras.layers.Conv2D(32, kernel_size=(3, 3), activation=\"relu\", kernel_regularizer=regularizers.l2(0.01)),\n",
    "        #keras.layers.Normalization(),\n",
    "        keras.layers.MaxPooling2D(pool_size=(2, 2)),\n",
    "        keras.layers.Conv2D(64, kernel_size=(3, 3), activation=\"relu\"),\n",
    "        #keras.layers.Conv2D(64, kernel_size=(3, 3), activation=\"relu\", kernel_regularizer=regularizers.l2(0.01)),\n",
    "        #keras.layers.Normalization(),\n",
    "        keras.layers.MaxPooling2D(pool_size=(2, 2)),\n",
    "        #keras.layers.Normalization(),\n",
    "        keras.layers.Flatten(),\n",
    "        keras.layers.Dropout(0.1),\n",
    "        keras.layers.Dense(1),\n",
    "    ]\n",
    ")\n",
    "\n",
    "model.summary()"
   ]
  },
  {
   "cell_type": "code",
   "execution_count": 22,
   "id": "39a0eed4",
   "metadata": {},
   "outputs": [],
   "source": [
    "#from keras.callbacks import EarlyStopping\n",
    "\n",
    "#EarlyStopping(monitor='val_err', patience=15)"
   ]
  },
  {
   "cell_type": "code",
   "execution_count": 23,
   "id": "449896c0-12a8-49ac-99c3-56dc6c8a0021",
   "metadata": {},
   "outputs": [],
   "source": [
    "'''\n",
    "model compilation\n",
    "'''\n",
    "epochs = 24\n",
    "model.compile(loss=\"mean_squared_error\", optimizer=\"adam\", metrics=[\"mean_squared_error\"])"
   ]
  },
  {
   "cell_type": "code",
   "execution_count": 24,
   "id": "f6976609",
   "metadata": {},
   "outputs": [],
   "source": [
    "#reduce = keras.callbacks.ReduceLROnPlateau(monitor='val_loss', factor=0.1, patience=20, mode='auto')\n",
    "#early = keras.callbacks.EarlyStopping(monitor='val_loss', min_delta=1e-4, patience=30, mode='auto')\n",
    "#model.fit(X, Y, callbacks=[reduce, early])"
   ]
  },
  {
   "cell_type": "code",
   "execution_count": 25,
   "id": "3a169f2b-6632-47c1-96f0-6e50f0142771",
   "metadata": {},
   "outputs": [
    {
     "name": "stdout",
     "output_type": "stream",
     "text": [
      "Epoch 1/24\n",
      "5/5 [==============================] - 3s 493ms/step - loss: 38.4792 - mean_squared_error: 38.4792 - val_loss: 5.1360 - val_mean_squared_error: 5.1360\n",
      "Epoch 2/24\n",
      "5/5 [==============================] - 2s 474ms/step - loss: 10.6761 - mean_squared_error: 10.6761 - val_loss: 1.8430 - val_mean_squared_error: 1.8430\n",
      "Epoch 3/24\n",
      "5/5 [==============================] - 2s 470ms/step - loss: 7.7668 - mean_squared_error: 7.7668 - val_loss: 6.1316 - val_mean_squared_error: 6.1316\n",
      "Epoch 4/24\n",
      "5/5 [==============================] - 2s 467ms/step - loss: 4.8754 - mean_squared_error: 4.8754 - val_loss: 4.9204 - val_mean_squared_error: 4.9204\n",
      "Epoch 5/24\n",
      "5/5 [==============================] - 2s 471ms/step - loss: 4.6986 - mean_squared_error: 4.6986 - val_loss: 2.7774 - val_mean_squared_error: 2.7774\n",
      "Epoch 6/24\n",
      "5/5 [==============================] - 2s 471ms/step - loss: 2.5086 - mean_squared_error: 2.5086 - val_loss: 2.3958 - val_mean_squared_error: 2.3958\n",
      "Epoch 7/24\n",
      "5/5 [==============================] - 2s 471ms/step - loss: 2.8432 - mean_squared_error: 2.8432 - val_loss: 1.8789 - val_mean_squared_error: 1.8789\n",
      "Epoch 8/24\n",
      "5/5 [==============================] - 2s 475ms/step - loss: 2.1922 - mean_squared_error: 2.1922 - val_loss: 2.4186 - val_mean_squared_error: 2.4186\n",
      "Epoch 9/24\n",
      "5/5 [==============================] - 2s 474ms/step - loss: 1.8676 - mean_squared_error: 1.8676 - val_loss: 1.6652 - val_mean_squared_error: 1.6652\n",
      "Epoch 10/24\n",
      "5/5 [==============================] - 2s 449ms/step - loss: 1.8479 - mean_squared_error: 1.8479 - val_loss: 1.7332 - val_mean_squared_error: 1.7332\n",
      "Epoch 11/24\n",
      "5/5 [==============================] - 2s 466ms/step - loss: 1.6775 - mean_squared_error: 1.6775 - val_loss: 1.8423 - val_mean_squared_error: 1.8423\n",
      "Epoch 12/24\n",
      "5/5 [==============================] - 2s 463ms/step - loss: 1.4931 - mean_squared_error: 1.4931 - val_loss: 1.5438 - val_mean_squared_error: 1.5438\n",
      "Epoch 13/24\n",
      "5/5 [==============================] - 2s 470ms/step - loss: 1.4897 - mean_squared_error: 1.4897 - val_loss: 1.6696 - val_mean_squared_error: 1.6696\n",
      "Epoch 14/24\n",
      "5/5 [==============================] - 2s 463ms/step - loss: 1.3850 - mean_squared_error: 1.3850 - val_loss: 1.7005 - val_mean_squared_error: 1.7005\n",
      "Epoch 15/24\n",
      "5/5 [==============================] - 2s 474ms/step - loss: 1.3265 - mean_squared_error: 1.3265 - val_loss: 1.5190 - val_mean_squared_error: 1.5190\n",
      "Epoch 16/24\n",
      "5/5 [==============================] - 2s 466ms/step - loss: 1.2596 - mean_squared_error: 1.2596 - val_loss: 1.5503 - val_mean_squared_error: 1.5503\n",
      "Epoch 17/24\n",
      "5/5 [==============================] - 2s 469ms/step - loss: 1.2267 - mean_squared_error: 1.2267 - val_loss: 1.6030 - val_mean_squared_error: 1.6030\n",
      "Epoch 18/24\n",
      "5/5 [==============================] - 2s 459ms/step - loss: 1.2166 - mean_squared_error: 1.2166 - val_loss: 1.5050 - val_mean_squared_error: 1.5050\n",
      "Epoch 19/24\n",
      "5/5 [==============================] - 2s 474ms/step - loss: 1.0937 - mean_squared_error: 1.0937 - val_loss: 1.7115 - val_mean_squared_error: 1.7115\n",
      "Epoch 20/24\n",
      "5/5 [==============================] - 2s 462ms/step - loss: 1.0523 - mean_squared_error: 1.0523 - val_loss: 1.5210 - val_mean_squared_error: 1.5210\n",
      "Epoch 21/24\n",
      "5/5 [==============================] - 2s 477ms/step - loss: 0.9897 - mean_squared_error: 0.9897 - val_loss: 1.5836 - val_mean_squared_error: 1.5836\n",
      "Epoch 22/24\n",
      "5/5 [==============================] - 2s 472ms/step - loss: 0.9356 - mean_squared_error: 0.9356 - val_loss: 1.5857 - val_mean_squared_error: 1.5857\n",
      "Epoch 23/24\n",
      "5/5 [==============================] - 2s 472ms/step - loss: 0.8851 - mean_squared_error: 0.8851 - val_loss: 1.6317 - val_mean_squared_error: 1.6317\n",
      "Epoch 24/24\n",
      "5/5 [==============================] - 2s 473ms/step - loss: 0.8105 - mean_squared_error: 0.8105 - val_loss: 1.6142 - val_mean_squared_error: 1.6142\n"
     ]
    }
   ],
   "source": [
    "hist = model.fit(x_train, y_train,  epochs=24, validation_split=0.1)"
   ]
  },
  {
   "cell_type": "code",
   "execution_count": 26,
   "id": "4ce87b25",
   "metadata": {},
   "outputs": [
    {
     "data": {
      "image/png": "[encoded data removed]",
      "text/plain": [
       "<Figure size 432x288 with 1 Axes>"
      ]
     },
     "metadata": {
      "needs_background": "light"
     },
     "output_type": "display_data"
    }
   ],
   "source": [
    "'''\n",
    "to get the graphs on the performance of the model\n",
    "'''\n",
    "plt.plot(hist.history['mean_squared_error'])\n",
    "plt.xlabel('Epochs')\n",
    "plt.ylabel('Mean Squared Error')\n",
    "plt.savefig('/Users/sri28/Desktop/G1.jpeg', dpi = 1000, transparent = True)"
   ]
  },
  {
   "cell_type": "code",
   "execution_count": 27,
   "id": "c0326f0c",
   "metadata": {},
   "outputs": [
    {
     "data": {
      "image/png": "[encoded data removed]",
      "text/plain": [
       "<Figure size 432x288 with 1 Axes>"
      ]
     },
     "metadata": {
      "needs_background": "light"
     },
     "output_type": "display_data"
    }
   ],
   "source": [
    "'''\n",
    "to get the graphs on the performance of the model\n",
    "'''\n",
    "plt.plot(hist.history['val_mean_squared_error'])\n",
    "plt.xlabel('Epochs')\n",
    "plt.ylabel('Validation Mean Squared Error')\n",
    "plt.savefig('/Users/sri28/Desktop/G2.jpeg', dpi = 1000, transparent = True)"
   ]
  },
  {
   "cell_type": "code",
   "execution_count": 28,
   "id": "bd0c3b2a",
   "metadata": {},
   "outputs": [
    {
     "data": {
      "image/png": "[encoded data removed]",
      "text/plain": [
       "<Figure size 432x288 with 1 Axes>"
      ]
     },
     "metadata": {
      "needs_background": "light"
     },
     "output_type": "display_data"
    }
   ],
   "source": [
    "'''\n",
    "to get the graphs on the performance of the model\n",
    "'''\n",
    "plt.plot(hist.history['loss'])\n",
    "plt.xlabel('Epochs')\n",
    "plt.ylabel('loss')\n",
    "plt.savefig('/Users/sri28/Desktop/G3.jpeg', dpi = 1000, transparent = True)"
   ]
  },
  {
   "cell_type": "code",
   "execution_count": 29,
   "id": "1c1a2a3f",
   "metadata": {},
   "outputs": [
    {
     "data": {
      "image/png": "[encoded data removed]",
      "text/plain": [
       "<Figure size 432x288 with 1 Axes>"
      ]
     },
     "metadata": {
      "needs_background": "light"
     },
     "output_type": "display_data"
    }
   ],
   "source": [
    "plt.plot(hist.history['loss'])\n",
    "plt.xlabel('Epochs')\n",
    "plt.ylabel('loss')\n",
    "plt.savefig('/Users/sri28/Desktop/G3.jpeg', dpi = 1000, transparent = True)"
   ]
  },
  {
   "cell_type": "code",
   "execution_count": 30,
   "id": "85641869",
   "metadata": {},
   "outputs": [
    {
     "data": {
      "image/png": "[encoded data removed]",
      "text/plain": [
       "<Figure size 432x288 with 1 Axes>"
      ]
     },
     "metadata": {
      "needs_background": "light"
     },
     "output_type": "display_data"
    }
   ],
   "source": [
    "'''\n",
    "to get the graphs on the performance of the model\n",
    "'''\n",
    "plt.plot(hist.history['val_loss'])\n",
    "plt.xlabel('Epochs')\n",
    "plt.ylabel('Validation loss')\n",
    "plt.savefig('/Users/sri28/Desktop/G4.jpeg', dpi = 1000, transparent = True)"
   ]
  },
  {
   "cell_type": "code",
   "execution_count": 31,
   "id": "a703dc38-ce84-4b9a-98e0-572e78df2f89",
   "metadata": {},
   "outputs": [
    {
     "name": "stdout",
     "output_type": "stream",
     "text": [
      "doing/Users/sri28/Desktop/Academic/QMULYR3/BMD600 - Biomed Research Project/BMD600_Mov/160204/10ms 45min 4/10ms 45min 4_MMStack.ome.tif\n"
     ]
    },
    {
     "data": {
      "text/plain": [
       "1    -5.00000\n",
       "4    -5.00000\n",
       "7    -5.69897\n",
       "10   -5.69897\n",
       "13   -6.39794\n",
       "16   -6.39794\n",
       "19   -7.09691\n",
       "22   -7.09691\n",
       "25   -7.79588\n",
       "28   -7.79588\n",
       "31   -8.49485\n",
       "34   -8.49485\n",
       "37   -9.19382\n",
       "40   -9.19382\n",
       "43   -9.89279\n",
       "46   -9.89279\n",
       "Name: conc, dtype: float64"
      ]
     },
     "execution_count": 31,
     "metadata": {},
     "output_type": "execute_result"
    }
   ],
   "source": [
    "'''\n",
    "This tests the model on an unseen dataset\n",
    "To predict insecticide concentrations\n",
    "'''\n",
    "\n",
    "datafiles = glob.glob('/Users/sri28/Desktop/Academic/QMULYR3/BMD600 - Biomed Research Project/BMD600_Mov/160204/10ms 45min 4/10ms 45min 4_MMStack.ome.tif'\n",
    ")\n",
    "datafiles\n",
    "\n",
    "x_test=[]\n",
    "for datafile in datafiles:\n",
    "    print('doing{}'.format(datafile))\n",
    "    x_test.append(makeDiffDataset(datafile, csvfile))\n",
    "    \n",
    "x_test = pd.concat(x_test)\n",
    "x_test = x_test.loc[x_test['cmpd']=='Deltamethrin']\n",
    "x_test_imgs = x_test['diffimg']\n",
    "y_test_conc = np.log10(x_test['conc'])\n",
    "\n",
    "\n",
    "# trim all to 200 x 200\n",
    "x_test_imgs = [im[:200,:200] for im in x_test_imgs.to_list()] # these are the images to train on\n",
    "x_test_imgs = np.expand_dims(x_test_imgs, -1)\n",
    "#x_test_imgs.shape\n",
    "y_test_conc"
   ]
  },
  {
   "cell_type": "code",
   "execution_count": 32,
   "id": "e141acd4",
   "metadata": {},
   "outputs": [],
   "source": [
    "#x_test_imgs.shape, y_test_conc.shape, result.shape"
   ]
  },
  {
   "cell_type": "code",
   "execution_count": 33,
   "id": "7d29ac54-2485-452e-acae-ebd726ba9153",
   "metadata": {},
   "outputs": [
    {
     "name": "stdout",
     "output_type": "stream",
     "text": [
      "       True  Predicted\n",
      "1  -5.00000  -5.999741\n",
      "4  -5.00000  -6.440063\n",
      "7  -5.69897  -6.161595\n",
      "10 -5.69897  -5.838235\n",
      "13 -6.39794  -6.199793\n",
      "..      ...        ...\n",
      "34 -8.49485  -7.783286\n",
      "37 -9.19382  -7.036361\n",
      "40 -9.19382 -11.235484\n",
      "43 -9.89279  -7.737029\n",
      "46 -9.89279  -7.681044\n",
      "\n",
      "[160 rows x 2 columns]\n",
      "       True  Predicted\n",
      "1  -5.00000  -6.175719\n",
      "4  -5.00000  -6.213553\n",
      "7  -5.69897  -6.377484\n",
      "10 -5.69897  -6.170868\n",
      "13 -6.39794  -6.476755\n",
      "16 -6.39794  -6.789479\n",
      "19 -7.09691  -6.733582\n",
      "22 -7.09691  -6.731490\n",
      "25 -7.79588  -6.664968\n",
      "28 -7.79588  -6.584036\n",
      "31 -8.49485  -6.582833\n",
      "34 -8.49485  -6.898907\n",
      "37 -9.19382  -6.579820\n",
      "40 -9.19382  -6.943566\n",
      "43 -9.89279  -7.125530\n",
      "46 -9.89279  -6.303982\n"
     ]
    },
    {
     "data": {
      "image/png": "[encoded data removed]",
      "text/plain": [
       "<Figure size 432x288 with 2 Axes>"
      ]
     },
     "metadata": {
      "needs_background": "light"
     },
     "output_type": "display_data"
    }
   ],
   "source": [
    "'''\n",
    "To get true versus predicted values and a graphical representation\n",
    "'''\n",
    "fig,ax = plt.subplots(1,2, sharey=True)\n",
    "result = model.predict(x_train)\n",
    "result = result.flatten()\n",
    "out = pd.DataFrame()\n",
    "out['True']=y_train\n",
    "out['Predicted']= result\n",
    "print(out)\n",
    "sb.scatterplot(data=out, x='True', y='Predicted', ax=ax[0])\n",
    "result = model.predict(x_test_imgs)\n",
    "result = result.flatten()\n",
    "out = pd.DataFrame()\n",
    "out['True']=y_test_conc\n",
    "out['Predicted']= result\n",
    "print(out)\n",
    "sb.scatterplot(data=out, x='True', y='Predicted', ax=ax[1])\n",
    "plt.savefig('/Users/sri28/Desktop/EasySamseaborn.jpeg', dpi = 1000, transparent = True)"
   ]
  },
  {
   "cell_type": "code",
   "execution_count": 34,
   "id": "0d4473d4",
   "metadata": {},
   "outputs": [],
   "source": [
    "'''\n",
    "To save file\n",
    "'''\n",
    "filepath = Path('/Users/sri28/Desktop/difficulttest.csv')  \n",
    "filepath.parent.mkdir(parents=True, exist_ok=True)  \n",
    "out.to_csv(filepath) "
   ]
  },
  {
   "cell_type": "code",
   "execution_count": 35,
   "id": "c4c95df5",
   "metadata": {},
   "outputs": [
    {
     "name": "stdout",
     "output_type": "stream",
     "text": [
      "       True  Predicted\n",
      "1  -5.00000  -6.175719\n",
      "4  -5.00000  -6.213553\n",
      "7  -5.69897  -6.377484\n",
      "10 -5.69897  -6.170868\n",
      "13 -6.39794  -6.476755\n",
      "16 -6.39794  -6.789479\n",
      "19 -7.09691  -6.733582\n",
      "22 -7.09691  -6.731490\n",
      "25 -7.79588  -6.664968\n",
      "28 -7.79588  -6.584036\n",
      "31 -8.49485  -6.582833\n",
      "34 -8.49485  -6.898907\n",
      "37 -9.19382  -6.579820\n",
      "40 -9.19382  -6.943566\n",
      "43 -9.89279  -7.125530\n",
      "46 -9.89279  -6.303982\n"
     ]
    },
    {
     "data": {
      "image/png": "[encoded data removed]",
      "text/plain": [
       "<Figure size 432x288 with 1 Axes>"
      ]
     },
     "metadata": {
      "needs_background": "light"
     },
     "output_type": "display_data"
    }
   ],
   "source": [
    "'''\n",
    "Graphical representation for data\n",
    "'''\n",
    "result = model.predict(x_test_imgs)\n",
    "result = result.flatten()\n",
    "out = pd.DataFrame()\n",
    "out['True']=y_test_conc\n",
    "out['Predicted']= result\n",
    "print(out)\n",
    "sb.scatterplot(data=out, x='True', y='Predicted')\n",
    "plt.savefig('/Users/sri28/Desktop/Easysbscatter.jpeg', dpi = 1000, transparent = True)"
   ]
  },
  {
   "cell_type": "code",
   "execution_count": 36,
   "id": "9c592af6-a33a-4a5e-b504-f903cbc04d08",
   "metadata": {},
   "outputs": [],
   "source": [
    "#result2 = result[:,0]<result[:,1]"
   ]
  },
  {
   "cell_type": "code",
   "execution_count": 37,
   "id": "72d56286",
   "metadata": {},
   "outputs": [
    {
     "name": "stdout",
     "output_type": "stream",
     "text": [
      "[-6.1757193 -6.2135534 -6.377484  -6.1708684 -6.476755  -6.789479\n",
      " -6.7335815 -6.73149   -6.6649685 -6.584036  -6.5828333 -6.8989067\n",
      " -6.57982   -6.9435663 -7.1255302 -6.303982 ]\n"
     ]
    }
   ],
   "source": [
    "#print(result2)\n",
    "print(result)"
   ]
  },
  {
   "cell_type": "code",
   "execution_count": 38,
   "id": "8003a005-2076-410e-9612-9effa7502490",
   "metadata": {},
   "outputs": [],
   "source": [
    "#x_test['is alive'] = result2\n",
    "#xtest['result']=result2\n",
    "#xtest\n",
    "#x_test['result'] \n",
    "#filepath = Path('/Users/sri28/Desktop/JUANTEST/out2.csv')  \n",
    "#filepath.parent.mkdir(parents=True, exist_ok=True)  \n",
    "#result.to_csv(filepath)  "
   ]
  },
  {
   "cell_type": "code",
   "execution_count": 39,
   "id": "144839e8",
   "metadata": {},
   "outputs": [],
   "source": [
    "#x_test['is alive'] = result2\n",
    "#xtest['result']=result2\n",
    "#xtest\n",
    "#from pathlib import Path  \n",
    "#filepath = Path('/Users/sri28/Desktop/JUANTEST/out2.csv')  \n",
    "#filepath.parent.mkdir(parents=True, exist_ok=True)  \n",
    "#x_test.to_csv(filepath)  "
   ]
  },
  {
   "cell_type": "code",
   "execution_count": 40,
   "id": "5dc5e852-4da9-4a8c-9686-dd5f31febb2d",
   "metadata": {},
   "outputs": [
    {
     "data": {
      "text/plain": [
       "(16,)"
      ]
     },
     "execution_count": 40,
     "metadata": {},
     "output_type": "execute_result"
    }
   ],
   "source": [
    "result.shape"
   ]
  },
  {
   "cell_type": "code",
   "execution_count": 41,
   "id": "be39cd52-ad42-4803-91b6-4280d6866f18",
   "metadata": {},
   "outputs": [
    {
     "data": {
      "text/html": [
       "<div>\n",
       "<style scoped>\n",
       "    .dataframe tbody tr th:only-of-type {\n",
       "        vertical-align: middle;\n",
       "    }\n",
       "\n",
       "    .dataframe tbody tr th {\n",
       "        vertical-align: top;\n",
       "    }\n",
       "\n",
       "    .dataframe thead th {\n",
       "        text-align: right;\n",
       "    }\n",
       "</style>\n",
       "<table border=\"1\" class=\"dataframe\">\n",
       "  <thead>\n",
       "    <tr style=\"text-align: right;\">\n",
       "      <th></th>\n",
       "      <th>row</th>\n",
       "      <th>col</th>\n",
       "      <th>image_sum</th>\n",
       "      <th>diffimg</th>\n",
       "      <th>cmpd</th>\n",
       "      <th>conc</th>\n",
       "      <th>genotype</th>\n",
       "    </tr>\n",
       "  </thead>\n",
       "  <tbody>\n",
       "    <tr>\n",
       "      <th>1</th>\n",
       "      <td>0</td>\n",
       "      <td>4</td>\n",
       "      <td>563.177933</td>\n",
       "      <td>[[0.04573043984368504, 0.047559657437432436, 0...</td>\n",
       "      <td>Deltamethrin</td>\n",
       "      <td>1.000000e-05</td>\n",
       "      <td>T</td>\n",
       "    </tr>\n",
       "    <tr>\n",
       "      <th>4</th>\n",
       "      <td>0</td>\n",
       "      <td>7</td>\n",
       "      <td>595.377151</td>\n",
       "      <td>[[0.03309220919597576, 0.03508771929824565, 0....</td>\n",
       "      <td>Deltamethrin</td>\n",
       "      <td>1.000000e-05</td>\n",
       "      <td>G</td>\n",
       "    </tr>\n",
       "    <tr>\n",
       "      <th>7</th>\n",
       "      <td>1</td>\n",
       "      <td>4</td>\n",
       "      <td>608.333333</td>\n",
       "      <td>[[0.0062359690695933945, 0.015382057038330371,...</td>\n",
       "      <td>Deltamethrin</td>\n",
       "      <td>2.000000e-06</td>\n",
       "      <td>T</td>\n",
       "    </tr>\n",
       "    <tr>\n",
       "      <th>10</th>\n",
       "      <td>1</td>\n",
       "      <td>7</td>\n",
       "      <td>634.229317</td>\n",
       "      <td>[[0.010809013053961883, 0.01313710817327675, 0...</td>\n",
       "      <td>Deltamethrin</td>\n",
       "      <td>2.000000e-06</td>\n",
       "      <td>G</td>\n",
       "    </tr>\n",
       "    <tr>\n",
       "      <th>13</th>\n",
       "      <td>2</td>\n",
       "      <td>4</td>\n",
       "      <td>654.208863</td>\n",
       "      <td>[[0.01721127463207792, 0.01105845181674562, 0....</td>\n",
       "      <td>Deltamethrin</td>\n",
       "      <td>4.000000e-07</td>\n",
       "      <td>T</td>\n",
       "    </tr>\n",
       "    <tr>\n",
       "      <th>16</th>\n",
       "      <td>2</td>\n",
       "      <td>7</td>\n",
       "      <td>701.963998</td>\n",
       "      <td>[[0.0148831795127629, 0.0063191153238546394, 0...</td>\n",
       "      <td>Deltamethrin</td>\n",
       "      <td>4.000000e-07</td>\n",
       "      <td>G</td>\n",
       "    </tr>\n",
       "    <tr>\n",
       "      <th>19</th>\n",
       "      <td>3</td>\n",
       "      <td>4</td>\n",
       "      <td>706.478673</td>\n",
       "      <td>[[0.0021618026107923767, 0.01330340068179924, ...</td>\n",
       "      <td>Deltamethrin</td>\n",
       "      <td>8.000000e-08</td>\n",
       "      <td>T</td>\n",
       "    </tr>\n",
       "    <tr>\n",
       "      <th>22</th>\n",
       "      <td>3</td>\n",
       "      <td>7</td>\n",
       "      <td>688.695269</td>\n",
       "      <td>[[0.010892159308223128, 0.00016629250852249051...</td>\n",
       "      <td>Deltamethrin</td>\n",
       "      <td>8.000000e-08</td>\n",
       "      <td>G</td>\n",
       "    </tr>\n",
       "    <tr>\n",
       "      <th>25</th>\n",
       "      <td>4</td>\n",
       "      <td>4</td>\n",
       "      <td>683.854577</td>\n",
       "      <td>[[0.013552839444583279, 0.008979795460214487, ...</td>\n",
       "      <td>Deltamethrin</td>\n",
       "      <td>1.600000e-08</td>\n",
       "      <td>T</td>\n",
       "    </tr>\n",
       "    <tr>\n",
       "      <th>28</th>\n",
       "      <td>4</td>\n",
       "      <td>7</td>\n",
       "      <td>677.273135</td>\n",
       "      <td>[[0.018874199717302673, 0.001995510102269886, ...</td>\n",
       "      <td>Deltamethrin</td>\n",
       "      <td>1.600000e-08</td>\n",
       "      <td>G</td>\n",
       "    </tr>\n",
       "    <tr>\n",
       "      <th>31</th>\n",
       "      <td>5</td>\n",
       "      <td>4</td>\n",
       "      <td>672.586929</td>\n",
       "      <td>[[0.029766359025525952, 0.012471938139186789, ...</td>\n",
       "      <td>Deltamethrin</td>\n",
       "      <td>3.200000e-09</td>\n",
       "      <td>T</td>\n",
       "    </tr>\n",
       "    <tr>\n",
       "      <th>34</th>\n",
       "      <td>5</td>\n",
       "      <td>7</td>\n",
       "      <td>749.617777</td>\n",
       "      <td>[[0.014800033258501655, 0.006568554086638375, ...</td>\n",
       "      <td>Deltamethrin</td>\n",
       "      <td>3.200000e-09</td>\n",
       "      <td>G</td>\n",
       "    </tr>\n",
       "    <tr>\n",
       "      <th>37</th>\n",
       "      <td>6</td>\n",
       "      <td>4</td>\n",
       "      <td>764.643968</td>\n",
       "      <td>[[0.0024943876278373574, 0.010310135528394411,...</td>\n",
       "      <td>Deltamethrin</td>\n",
       "      <td>6.400000e-10</td>\n",
       "      <td>T</td>\n",
       "    </tr>\n",
       "    <tr>\n",
       "      <th>40</th>\n",
       "      <td>6</td>\n",
       "      <td>7</td>\n",
       "      <td>713.865719</td>\n",
       "      <td>[[0.014467448241456675, 0.012721376901970524, ...</td>\n",
       "      <td>Deltamethrin</td>\n",
       "      <td>6.400000e-10</td>\n",
       "      <td>G</td>\n",
       "    </tr>\n",
       "    <tr>\n",
       "      <th>43</th>\n",
       "      <td>7</td>\n",
       "      <td>4</td>\n",
       "      <td>870.625094</td>\n",
       "      <td>[[0.004157312713062263, 0.02386297497297754, 0...</td>\n",
       "      <td>Deltamethrin</td>\n",
       "      <td>1.280000e-10</td>\n",
       "      <td>T</td>\n",
       "    </tr>\n",
       "    <tr>\n",
       "      <th>46</th>\n",
       "      <td>7</td>\n",
       "      <td>7</td>\n",
       "      <td>613.569302</td>\n",
       "      <td>[[0.013053961919015505, 0.0021618026107923767,...</td>\n",
       "      <td>Deltamethrin</td>\n",
       "      <td>1.280000e-10</td>\n",
       "      <td>G</td>\n",
       "    </tr>\n",
       "  </tbody>\n",
       "</table>\n",
       "</div>"
      ],
      "text/plain": [
       "    row  col   image_sum                                            diffimg  \\\n",
       "1     0    4  563.177933  [[0.04573043984368504, 0.047559657437432436, 0...   \n",
       "4     0    7  595.377151  [[0.03309220919597576, 0.03508771929824565, 0....   \n",
       "7     1    4  608.333333  [[0.0062359690695933945, 0.015382057038330371,...   \n",
       "10    1    7  634.229317  [[0.010809013053961883, 0.01313710817327675, 0...   \n",
       "13    2    4  654.208863  [[0.01721127463207792, 0.01105845181674562, 0....   \n",
       "16    2    7  701.963998  [[0.0148831795127629, 0.0063191153238546394, 0...   \n",
       "19    3    4  706.478673  [[0.0021618026107923767, 0.01330340068179924, ...   \n",
       "22    3    7  688.695269  [[0.010892159308223128, 0.00016629250852249051...   \n",
       "25    4    4  683.854577  [[0.013552839444583279, 0.008979795460214487, ...   \n",
       "28    4    7  677.273135  [[0.018874199717302673, 0.001995510102269886, ...   \n",
       "31    5    4  672.586929  [[0.029766359025525952, 0.012471938139186789, ...   \n",
       "34    5    7  749.617777  [[0.014800033258501655, 0.006568554086638375, ...   \n",
       "37    6    4  764.643968  [[0.0024943876278373574, 0.010310135528394411,...   \n",
       "40    6    7  713.865719  [[0.014467448241456675, 0.012721376901970524, ...   \n",
       "43    7    4  870.625094  [[0.004157312713062263, 0.02386297497297754, 0...   \n",
       "46    7    7  613.569302  [[0.013053961919015505, 0.0021618026107923767,...   \n",
       "\n",
       "            cmpd          conc genotype  \n",
       "1   Deltamethrin  1.000000e-05        T  \n",
       "4   Deltamethrin  1.000000e-05        G  \n",
       "7   Deltamethrin  2.000000e-06        T  \n",
       "10  Deltamethrin  2.000000e-06        G  \n",
       "13  Deltamethrin  4.000000e-07        T  \n",
       "16  Deltamethrin  4.000000e-07        G  \n",
       "19  Deltamethrin  8.000000e-08        T  \n",
       "22  Deltamethrin  8.000000e-08        G  \n",
       "25  Deltamethrin  1.600000e-08        T  \n",
       "28  Deltamethrin  1.600000e-08        G  \n",
       "31  Deltamethrin  3.200000e-09        T  \n",
       "34  Deltamethrin  3.200000e-09        G  \n",
       "37  Deltamethrin  6.400000e-10        T  \n",
       "40  Deltamethrin  6.400000e-10        G  \n",
       "43  Deltamethrin  1.280000e-10        T  \n",
       "46  Deltamethrin  1.280000e-10        G  "
      ]
     },
     "execution_count": 41,
     "metadata": {},
     "output_type": "execute_result"
    }
   ],
   "source": [
    "x_test"
   ]
  },
  {
   "cell_type": "code",
   "execution_count": null,
   "id": "798eac0f",
   "metadata": {},
   "outputs": [],
   "source": []
  },
  {
   "cell_type": "code",
   "execution_count": null,
   "id": "32705af3",
   "metadata": {},
   "outputs": [],
   "source": []
  }
 ],
 "metadata": {
  "kernelspec": {
   "display_name": "Python 3",
   "language": "python",
   "name": "python3"
  },
  "language_info": {
   "codemirror_mode": {
    "name": "ipython",
    "version": 3
   },
   "file_extension": ".py",
   "mimetype": "text/x-python",
   "name": "python",
   "nbconvert_exporter": "python",
   "pygments_lexer": "ipython3",
   "version": "3.8.8"
  }
 },
 "nbformat": 4,
 "nbformat_minor": 5
}
